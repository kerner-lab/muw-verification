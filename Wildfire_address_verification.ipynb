{
  "nbformat": 4,
  "nbformat_minor": 0,
  "metadata": {
    "colab": {
      "provenance": [],
      "authorship_tag": "ABX9TyMraH6LibpX71BeXuy9ESSp",
      "include_colab_link": true
    },
    "kernelspec": {
      "name": "python3",
      "display_name": "Python 3"
    },
    "language_info": {
      "name": "python"
    }
  },
  "cells": [
    {
      "cell_type": "markdown",
      "metadata": {
        "id": "view-in-github",
        "colab_type": "text"
      },
      "source": [
        "<a href=\"https://colab.research.google.com/github/kerner-lab/muw-verification/blob/main/Wildfire_address_verification.ipynb\" target=\"_parent\"><img src=\"https://colab.research.google.com/assets/colab-badge.svg\" alt=\"Open In Colab\"/></a>"
      ]
    },
    {
      "cell_type": "code",
      "source": [
        "#@title Click the Play button to run setup\n",
        "!pip install ipyleaflet -q\n",
        "from ipyleaflet import Map, TileLayer, Marker, basemaps, LayersControl, GeoData\n",
        "\n",
        "import geopandas as gpd\n",
        "import matplotlib.pyplot as plt\n",
        "from geopy.geocoders import GoogleV3\n",
        "from shapely.geometry import Point\n",
        "\n",
        "class Verifier:\n",
        "  def __init__(self, api_key, address):\n",
        "    # Geocode the location\n",
        "    self.location = GoogleV3(user_agent=\"MUW-Verify\", api_key=api_key).geocode(address)\n",
        "    # Format address as Point\n",
        "    addr_point = Point(self.location.longitude, self.location.latitude)\n",
        "    self.addr_point = gpd.GeoSeries(addr_point, crs='EPSG:4326')\n",
        "    if self.location:\n",
        "      print('Found location: %s' % self.location.address)\n",
        "    else:\n",
        "      print('Address not found - check that your formatting is correct.')\n",
        "    # Load the burn scar polygons\n",
        "    burn_scar_url = \"https://drive.google.com/file/d/1Ukn9UnGtTz69JrfTBYLQ1UpEi9vQ7VU6/view?usp=drive_link\"\n",
        "    burn_scar_url = \"https://drive.google.com/uc?id=\" + burn_scar_url.split('/')[-2]\n",
        "    self.burn_scar = gpd.read_file(burn_scar_url)\n",
        "    # Load building damage polygons\n",
        "    bldg_dmg_url = \"https://drive.google.com/file/d/1tCGqAsrWB0lHRvQFNyk25w7_sKO40lTm/view?usp=drive_link\"\n",
        "    bldg_dmg_url = \"https://drive.google.com/uc?id=\" + bldg_dmg_url.split('/')[-2]\n",
        "    self.bld_dmg = gpd.read_file(bldg_dmg_url).to_crs('EPSG:4326')\n",
        "\n",
        "  def check_in_burn_scar(self):\n",
        "    # Check if address is contained within burn scar\n",
        "    if self.burn_scar.iloc[1].geometry.contains(self.addr_point).any():\n",
        "      print('Address %s is inside South Maui/Upcountry burn scar area' % self.location.address)\n",
        "    elif self.burn_scar.iloc[0].geometry.contains(self.addr_point).any():\n",
        "      print('Address %s is inside Lahaina burn scar area' % self.location.address)\n",
        "    else:\n",
        "      print('Address %s is NOT inside either burn scar area' % self.location.address)\n",
        "\n",
        "  def check_in_building_damage(self):\n",
        "    print(\"NOTE: Building damage detection and damage levels based on imagery from August 9. Further damage may have occurred that is not shown here.\\nSee NOAA website for latest high-res imagery: https://storms.ngs.noaa.gov/storms/2023_hawaii/index.html\")\n",
        "    # Check if the address matches a building and if so what the damage level is\n",
        "    bldg_match = False\n",
        "    for idx, row in self.bld_dmg.iterrows():\n",
        "      if row.geometry.contains(self.addr_point).any():\n",
        "        bldg_match = True\n",
        "        print('Address %s matches building in building damage detection database' % self.location.address)\n",
        "        print('Estimated damage level: %f percent' % (float(row['damage_pct'])*100))\n",
        "        break\n",
        "    if not bldg_match:\n",
        "      print('Address %s does not match any buildings in building damage detection database' % self.location.address)\n",
        "\n",
        "  def display_map(self):\n",
        "    # Display the map\n",
        "    addr_centroid = (self.addr_point.y.values[0], self.addr_point.x.values[0])\n",
        "\n",
        "    m = Map(\n",
        "        zoom=18, # only defined between 12 and 18\n",
        "        scroll_wheel_zoom=True,\n",
        "        center=addr_centroid)\n",
        "\n",
        "    google_layer = TileLayer(url=\"http://mt0.google.com/vt/lyrs=y&hl=en&x={x}&y={y}&z={z}\", name=\"Google Satellite Layer (before)\")\n",
        "    m.add_layer(google_layer)\n",
        "\n",
        "    maxar_lahaina_tiles = (\"https://geospatialvisualizer.z13.web.core.windows.net/tiles/10300100EB592000_tiles/{z}/{x}/{y}.png\")\n",
        "    maxar_layer=TileLayer(url=maxar_lahaina_tiles, name='Maxar post-fire August 9')\n",
        "    m.add_layer(maxar_layer)\n",
        "\n",
        "    skysat_lahaina_tiles = (\"https://geospatialvisualizer.z13.web.core.windows.net/tiles/skysat_maui_8_10_2023_rgb_tiles/{z}/{x}/{y}.png\")\n",
        "    skysat_layer=TileLayer(url=skysat_lahaina_tiles, name='SkySat post-fire August 9')\n",
        "    m.add_layer(skysat_layer)\n",
        "\n",
        "    burnscar = GeoData(geo_dataframe = self.burn_scar, style={'color': 'black', 'fillColor': '#a76f45', 'opacity':0.5, 'fillOpacity':0.4},\n",
        "                       name='Burn scar')\n",
        "    m.add_layer(burnscar)\n",
        "\n",
        "    buildings = GeoData(geo_dataframe = self.bld_dmg[self.bld_dmg['damaged']==1], style={'color': 'black', 'fillColor': 'red', 'opacity':0.5, 'fillOpacity':0.6},\n",
        "                        name='Damaged buildings')\n",
        "    m.add_layer(buildings)\n",
        "\n",
        "    buildings = GeoData(geo_dataframe = self.bld_dmg[self.bld_dmg['damaged']==0], style={'color': 'black', 'fillColor': 'green', 'opacity':0.5, 'fillOpacity':0.6},\n",
        "                        name='Intact buildings')\n",
        "    m.add_layer(buildings)\n",
        "\n",
        "    mark = Marker(location=addr_centroid, name='Verification address')\n",
        "    m.add_layer(mark)\n",
        "    m.add_control(LayersControl())\n",
        "    return m"
      ],
      "metadata": {
        "cellView": "form",
        "id": "4HxfJzuy1kLc"
      },
      "execution_count": null,
      "outputs": []
    },
    {
      "cell_type": "code",
      "source": [
        "#@title Click the Play button to run verification. You can run this step for each new address.\n",
        "\n",
        "# Get user inputs\n",
        "address = input(\"Enter the address to verify:\")\n",
        "googlemaps_key = input(\"Enter a Google Maps API key:\")\n",
        "\n",
        "v = Verifier(googlemaps_key, address)\n",
        "v.check_in_burn_scar()\n",
        "v.check_in_building_damage()\n",
        "map = v.display_map()\n",
        "map"
      ],
      "metadata": {
        "cellView": "form",
        "id": "p6FgIU2QjDD4"
      },
      "execution_count": null,
      "outputs": []
    }
  ]
}